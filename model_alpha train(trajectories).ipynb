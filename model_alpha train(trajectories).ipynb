{
 "cells": [
  {
   "cell_type": "code",
   "execution_count": 1,
   "id": "bb1c2d9e",
   "metadata": {
    "ExecuteTime": {
     "end_time": "2024-12-11T06:05:11.243683Z",
     "start_time": "2024-12-11T06:05:08.742334Z"
    }
   },
   "outputs": [],
   "source": [
    "from tensorflow.keras.models import Model\n",
    "from tensorflow.keras.optimizers import Adam\n",
    "from tensorflow.keras.layers import Input, Conv1D, BatchNormalization, Activation, MaxPooling1D, Flatten, TimeDistributed\n",
    "from tensorflow.keras.layers import Dropout, Bidirectional, LSTM, Attention, Multiply, Reshape, Permute, Dense\n",
    "from tensorflow.keras import regularizers\n",
    "from tensorflow.keras.backend import clear_session\n",
    "from tensorflow.keras.callbacks import ModelCheckpoint, EarlyStopping, ReduceLROnPlateau\n",
    "import pickle\n",
    "import numpy as np\n",
    "import matplotlib.pyplot as plt\n",
    "import tensorflow as tf\n",
    "\n",
    "T = 200\n",
    "tau = 3\n",
    "retype_dimension = int(T-tau+1)\n",
    "\n",
    "\n",
    "with open('Data/Feature/alpha_data (200, {})'.format(tau), 'rb') as f:\n",
    "    alpha_data = pickle.load(f)\n",
    "\n",
    "with open(\"Data/Feature/Trajectories ({})\".format(T),\"rb\") as f:\n",
    "    trajectories = pickle.load(f)"
   ]
  },
  {
   "cell_type": "code",
   "execution_count": 2,
   "id": "e1b37adf",
   "metadata": {
    "ExecuteTime": {
     "end_time": "2024-12-11T06:05:11.248899Z",
     "start_time": "2024-12-11T06:05:11.246103Z"
    }
   },
   "outputs": [],
   "source": [
    "input_data = trajectories"
   ]
  },
  {
   "cell_type": "code",
   "execution_count": 3,
   "id": "6948d9e5",
   "metadata": {
    "ExecuteTime": {
     "end_time": "2024-12-11T06:05:12.157055Z",
     "start_time": "2024-12-11T06:05:11.253008Z"
    }
   },
   "outputs": [
    {
     "name": "stdout",
     "output_type": "stream",
     "text": [
      "train_input shape = (300000, 200, 2)\n",
      "train_output shape = (300000, 200)\n",
      "val_input shape = (60000, 200, 2)\n",
      "val_output shape = (60000, 200)\n"
     ]
    }
   ],
   "source": [
    "input_data = trajectories\n",
    "train_input = np.zeros((300000,T,2))\n",
    "val_input = np.zeros((60000,T,2))\n",
    "test_input = np.zeros((60000,T,2))\n",
    "\n",
    "train_output = np.zeros((300000,T))\n",
    "val_output = np.zeros((60000,T))\n",
    "test_output = np.zeros((60000,T))\n",
    "\n",
    "cases = ['single', 'multi', 'immobile', 'dimerization','confinement']\n",
    "\n",
    "\n",
    "for case_num, case in enumerate(cases):\n",
    "    ns_t = int(case_num*60000)\n",
    "    ne_t = int((case_num+1)*60000)\n",
    "\n",
    "    ns_v = int(case_num*12000)\n",
    "    ne_v = int((case_num+1)*12000)\n",
    "\n",
    "    train_input[ns_t:ne_t,:,0] = input_data['x'][case][0]\n",
    "    train_input[ns_t:ne_t,:,1] = input_data['y'][case][0]\n",
    "    val_input[ns_v:ne_v,:,0] = input_data['x'][case][1]\n",
    "    val_input[ns_v:ne_v,:,1] = input_data['y'][case][1]\n",
    "    test_input[ns_v:ne_v,:,0] = input_data['x'][case][2]\n",
    "    test_input[ns_v:ne_v,:,1] = input_data['y'][case][2]\n",
    "    \n",
    "    train_output[ns_t:ne_t] = alpha_data[case][0]\n",
    "    val_output[ns_v:ne_v] = alpha_data[case][1]\n",
    "    test_output[ns_v:ne_v] = alpha_data[case][2]\n",
    "        \n",
    "        \n",
    "\n",
    "\n",
    "\n",
    "\n",
    "    \n",
    "print('train_input shape = {}'.format(train_input.shape))\n",
    "print('train_output shape = {}'.format(train_output.shape))\n",
    "print('val_input shape = {}'.format(val_input.shape))\n",
    "print('val_output shape = {}'.format(val_output.shape))"
   ]
  },
  {
   "cell_type": "code",
   "execution_count": 4,
   "id": "c4bd6f6a",
   "metadata": {
    "ExecuteTime": {
     "end_time": "2024-12-11T06:05:12.167228Z",
     "start_time": "2024-12-11T06:05:12.161820Z"
    }
   },
   "outputs": [],
   "source": [
    "from tensorflow.keras.callbacks import Callback\n",
    "\n",
    "class ValLossHistory(Callback):\n",
    "    def __init__(self):\n",
    "        super().__init__()\n",
    "        self.val_loss_list = []\n",
    "\n",
    "    def on_epoch_end(self, epoch, logs=None):\n",
    "        # logs['val_loss']를 리스트에 추가\n",
    "        if logs is not None and 'val_loss' in logs:\n",
    "            self.val_loss_list.append(logs['val_loss'])"
   ]
  },
  {
   "cell_type": "code",
   "execution_count": 5,
   "id": "e842c6ec",
   "metadata": {
    "ExecuteTime": {
     "end_time": "2024-12-11T23:38:42.999922Z",
     "start_time": "2024-12-11T06:05:33.040640Z"
    },
    "scrolled": true
   },
   "outputs": [
    {
     "name": "stdout",
     "output_type": "stream",
     "text": [
      "Model: \"model\"\n",
      "_________________________________________________________________\n",
      "Layer (type)                 Output Shape              Param #   \n",
      "=================================================================\n",
      "input1 (InputLayer)          [(None, 200, 2)]          0         \n",
      "_________________________________________________________________\n",
      "conv1d (Conv1D)              (None, 200, 512)          8704      \n",
      "_________________________________________________________________\n",
      "batch_normalization (BatchNo (None, 200, 512)          2048      \n",
      "_________________________________________________________________\n",
      "conv1d_1 (Conv1D)            (None, 200, 512)          2097664   \n",
      "_________________________________________________________________\n",
      "batch_normalization_1 (Batch (None, 200, 512)          2048      \n",
      "_________________________________________________________________\n",
      "conv1d_2 (Conv1D)            (None, 200, 512)          2097664   \n",
      "_________________________________________________________________\n",
      "batch_normalization_2 (Batch (None, 200, 512)          2048      \n",
      "_________________________________________________________________\n",
      "bidirectional (Bidirectional (None, 200, 2048)         12591104  \n",
      "_________________________________________________________________\n",
      "batch_normalization_3 (Batch (None, 200, 2048)         8192      \n",
      "_________________________________________________________________\n",
      "bidirectional_1 (Bidirection (None, 200, 1024)         10489856  \n",
      "_________________________________________________________________\n",
      "batch_normalization_4 (Batch (None, 200, 1024)         4096      \n",
      "_________________________________________________________________\n",
      "bidirectional_2 (Bidirection (None, 512)               2623488   \n",
      "_________________________________________________________________\n",
      "batch_normalization_5 (Batch (None, 512)               2048      \n",
      "_________________________________________________________________\n",
      "dropout (Dropout)            (None, 512)               0         \n",
      "_________________________________________________________________\n",
      "dense (Dense)                (None, 200)               102600    \n",
      "=================================================================\n",
      "Total params: 30,031,560\n",
      "Trainable params: 30,021,320\n",
      "Non-trainable params: 10,240\n",
      "_________________________________________________________________\n",
      "Epoch 1/1000\n",
      "  6/600 [..............................] - ETA: 9:14 - loss: 0.7689WARNING:tensorflow:Callback method `on_train_batch_end` is slow compared to the batch time (batch time: 0.2745s vs `on_train_batch_end` time: 0.5491s). Check your callbacks.\n",
      "600/600 [==============================] - 620s 1s/step - loss: 0.3476 - val_loss: 0.4883\n",
      "\n",
      "Epoch 00001: val_loss improved from inf to 0.48825, saving model to Models/trajectories_model_alpha_(12/05) (T = 200, ks = 8, 3_cnn, causal).hdf5\n",
      "Epoch 2/1000\n",
      "600/600 [==============================] - 613s 1s/step - loss: 0.2793 - val_loss: 0.2673\n",
      "\n",
      "Epoch 00002: val_loss improved from 0.48825 to 0.26731, saving model to Models/trajectories_model_alpha_(12/05) (T = 200, ks = 8, 3_cnn, causal).hdf5\n",
      "Epoch 3/1000\n",
      "600/600 [==============================] - 613s 1s/step - loss: 0.2651 - val_loss: 0.3126\n",
      "\n",
      "Epoch 00003: val_loss did not improve from 0.26731\n",
      "Epoch 4/1000\n",
      "600/600 [==============================] - 613s 1s/step - loss: 0.2337 - val_loss: 0.2123\n",
      "\n",
      "Epoch 00004: val_loss improved from 0.26731 to 0.21232, saving model to Models/trajectories_model_alpha_(12/05) (T = 200, ks = 8, 3_cnn, causal).hdf5\n",
      "Epoch 5/1000\n",
      "600/600 [==============================] - 613s 1s/step - loss: 0.1830 - val_loss: 0.1689\n",
      "\n",
      "Epoch 00005: val_loss improved from 0.21232 to 0.16893, saving model to Models/trajectories_model_alpha_(12/05) (T = 200, ks = 8, 3_cnn, causal).hdf5\n",
      "Epoch 6/1000\n",
      "600/600 [==============================] - 613s 1s/step - loss: 0.1580 - val_loss: 0.1505\n",
      "\n",
      "Epoch 00006: val_loss improved from 0.16893 to 0.15050, saving model to Models/trajectories_model_alpha_(12/05) (T = 200, ks = 8, 3_cnn, causal).hdf5\n",
      "Epoch 7/1000\n",
      "600/600 [==============================] - 613s 1s/step - loss: 0.1460 - val_loss: 0.1464\n",
      "\n",
      "Epoch 00007: val_loss improved from 0.15050 to 0.14638, saving model to Models/trajectories_model_alpha_(12/05) (T = 200, ks = 8, 3_cnn, causal).hdf5\n",
      "Epoch 8/1000\n",
      "600/600 [==============================] - 612s 1s/step - loss: 0.1363 - val_loss: 0.1352\n",
      "\n",
      "Epoch 00008: val_loss improved from 0.14638 to 0.13523, saving model to Models/trajectories_model_alpha_(12/05) (T = 200, ks = 8, 3_cnn, causal).hdf5\n",
      "Epoch 9/1000\n",
      "600/600 [==============================] - 612s 1s/step - loss: 0.1308 - val_loss: 0.1236\n",
      "\n",
      "Epoch 00009: val_loss improved from 0.13523 to 0.12362, saving model to Models/trajectories_model_alpha_(12/05) (T = 200, ks = 8, 3_cnn, causal).hdf5\n",
      "Epoch 10/1000\n",
      "600/600 [==============================] - 612s 1s/step - loss: 0.1256 - val_loss: 0.1223\n",
      "\n",
      "Epoch 00010: val_loss improved from 0.12362 to 0.12230, saving model to Models/trajectories_model_alpha_(12/05) (T = 200, ks = 8, 3_cnn, causal).hdf5\n",
      "Epoch 11/1000\n",
      "600/600 [==============================] - 612s 1s/step - loss: 0.1207 - val_loss: 0.1115\n",
      "\n",
      "Epoch 00011: val_loss improved from 0.12230 to 0.11154, saving model to Models/trajectories_model_alpha_(12/05) (T = 200, ks = 8, 3_cnn, causal).hdf5\n",
      "Epoch 12/1000\n",
      "600/600 [==============================] - 612s 1s/step - loss: 0.1236 - val_loss: 0.1145\n",
      "\n",
      "Epoch 00012: val_loss did not improve from 0.11154\n",
      "Epoch 13/1000\n",
      "600/600 [==============================] - 613s 1s/step - loss: 0.1237 - val_loss: 0.1173\n",
      "\n",
      "Epoch 00013: val_loss did not improve from 0.11154\n",
      "\n",
      "Epoch 00013: ReduceLROnPlateau reducing learning rate to 0.0005000000237487257.\n",
      "Epoch 14/1000\n",
      "600/600 [==============================] - 612s 1s/step - loss: 0.1081 - val_loss: 0.0990\n",
      "\n",
      "Epoch 00014: val_loss improved from 0.11154 to 0.09902, saving model to Models/trajectories_model_alpha_(12/05) (T = 200, ks = 8, 3_cnn, causal).hdf5\n",
      "Epoch 15/1000\n",
      "600/600 [==============================] - 612s 1s/step - loss: 0.1030 - val_loss: 0.0970\n",
      "\n",
      "Epoch 00015: val_loss improved from 0.09902 to 0.09702, saving model to Models/trajectories_model_alpha_(12/05) (T = 200, ks = 8, 3_cnn, causal).hdf5\n",
      "Epoch 16/1000\n",
      "600/600 [==============================] - 613s 1s/step - loss: 0.0994 - val_loss: 0.0936\n",
      "\n",
      "Epoch 00016: val_loss improved from 0.09702 to 0.09358, saving model to Models/trajectories_model_alpha_(12/05) (T = 200, ks = 8, 3_cnn, causal).hdf5\n",
      "Epoch 17/1000\n",
      "600/600 [==============================] - 612s 1s/step - loss: 0.0963 - val_loss: 0.0975\n",
      "\n",
      "Epoch 00017: val_loss did not improve from 0.09358\n",
      "Epoch 18/1000\n",
      "600/600 [==============================] - 613s 1s/step - loss: 0.0946 - val_loss: 0.0908\n",
      "\n",
      "Epoch 00018: val_loss improved from 0.09358 to 0.09083, saving model to Models/trajectories_model_alpha_(12/05) (T = 200, ks = 8, 3_cnn, causal).hdf5\n",
      "Epoch 19/1000\n",
      "600/600 [==============================] - 613s 1s/step - loss: 0.0923 - val_loss: 0.0897\n",
      "\n",
      "Epoch 00019: val_loss improved from 0.09083 to 0.08968, saving model to Models/trajectories_model_alpha_(12/05) (T = 200, ks = 8, 3_cnn, causal).hdf5\n",
      "Epoch 20/1000\n",
      "600/600 [==============================] - 613s 1s/step - loss: 0.0895 - val_loss: 0.0889\n",
      "\n",
      "Epoch 00020: val_loss improved from 0.08968 to 0.08895, saving model to Models/trajectories_model_alpha_(12/05) (T = 200, ks = 8, 3_cnn, causal).hdf5\n",
      "Epoch 21/1000\n",
      "600/600 [==============================] - 613s 1s/step - loss: 0.0877 - val_loss: 0.0848\n",
      "\n",
      "Epoch 00021: val_loss improved from 0.08895 to 0.08483, saving model to Models/trajectories_model_alpha_(12/05) (T = 200, ks = 8, 3_cnn, causal).hdf5\n",
      "Epoch 22/1000\n",
      "600/600 [==============================] - 613s 1s/step - loss: 0.0870 - val_loss: 0.0853\n",
      "\n",
      "Epoch 00022: val_loss did not improve from 0.08483\n",
      "Epoch 23/1000\n",
      "600/600 [==============================] - 613s 1s/step - loss: 0.0843 - val_loss: 0.0836\n",
      "\n",
      "Epoch 00023: val_loss improved from 0.08483 to 0.08356, saving model to Models/trajectories_model_alpha_(12/05) (T = 200, ks = 8, 3_cnn, causal).hdf5\n",
      "Epoch 24/1000\n",
      "600/600 [==============================] - 612s 1s/step - loss: 0.0828 - val_loss: 0.0821\n",
      "\n",
      "Epoch 00024: val_loss improved from 0.08356 to 0.08211, saving model to Models/trajectories_model_alpha_(12/05) (T = 200, ks = 8, 3_cnn, causal).hdf5\n",
      "Epoch 25/1000\n",
      "600/600 [==============================] - 612s 1s/step - loss: 0.0815 - val_loss: 0.0807\n",
      "\n",
      "Epoch 00025: val_loss improved from 0.08211 to 0.08068, saving model to Models/trajectories_model_alpha_(12/05) (T = 200, ks = 8, 3_cnn, causal).hdf5\n",
      "Epoch 26/1000\n",
      "600/600 [==============================] - 613s 1s/step - loss: 0.0800 - val_loss: 0.0812\n",
      "\n",
      "Epoch 00026: val_loss did not improve from 0.08068\n",
      "Epoch 27/1000\n",
      "600/600 [==============================] - 613s 1s/step - loss: 0.0791 - val_loss: 0.0800\n",
      "\n",
      "Epoch 00027: val_loss improved from 0.08068 to 0.08001, saving model to Models/trajectories_model_alpha_(12/05) (T = 200, ks = 8, 3_cnn, causal).hdf5\n",
      "Epoch 28/1000\n",
      "600/600 [==============================] - 612s 1s/step - loss: 0.0793 - val_loss: 0.0790\n",
      "\n",
      "Epoch 00028: val_loss improved from 0.08001 to 0.07899, saving model to Models/trajectories_model_alpha_(12/05) (T = 200, ks = 8, 3_cnn, causal).hdf5\n",
      "Epoch 29/1000\n",
      "600/600 [==============================] - 612s 1s/step - loss: 0.0773 - val_loss: 0.0780\n",
      "\n",
      "Epoch 00029: val_loss improved from 0.07899 to 0.07804, saving model to Models/trajectories_model_alpha_(12/05) (T = 200, ks = 8, 3_cnn, causal).hdf5\n",
      "Epoch 30/1000\n",
      "600/600 [==============================] - 613s 1s/step - loss: 0.0764 - val_loss: 0.0767\n",
      "\n",
      "Epoch 00030: val_loss improved from 0.07804 to 0.07673, saving model to Models/trajectories_model_alpha_(12/05) (T = 200, ks = 8, 3_cnn, causal).hdf5\n",
      "Epoch 31/1000\n",
      "600/600 [==============================] - 613s 1s/step - loss: 0.0750 - val_loss: 0.0768\n",
      "\n",
      "Epoch 00031: val_loss did not improve from 0.07673\n",
      "Epoch 32/1000\n",
      "600/600 [==============================] - 612s 1s/step - loss: 0.0748 - val_loss: 0.0754\n",
      "\n",
      "Epoch 00032: val_loss improved from 0.07673 to 0.07541, saving model to Models/trajectories_model_alpha_(12/05) (T = 200, ks = 8, 3_cnn, causal).hdf5\n",
      "Epoch 33/1000\n",
      "600/600 [==============================] - 613s 1s/step - loss: 0.0732 - val_loss: 0.0763\n",
      "\n",
      "Epoch 00033: val_loss did not improve from 0.07541\n",
      "Epoch 34/1000\n",
      "600/600 [==============================] - 612s 1s/step - loss: 0.0744 - val_loss: 0.0751\n",
      "\n",
      "Epoch 00034: val_loss improved from 0.07541 to 0.07508, saving model to Models/trajectories_model_alpha_(12/05) (T = 200, ks = 8, 3_cnn, causal).hdf5\n",
      "Epoch 35/1000\n",
      "600/600 [==============================] - 612s 1s/step - loss: 0.0721 - val_loss: 0.0777\n",
      "\n",
      "Epoch 00035: val_loss did not improve from 0.07508\n",
      "Epoch 36/1000\n",
      "600/600 [==============================] - 612s 1s/step - loss: 0.0710 - val_loss: 0.0741\n",
      "\n",
      "Epoch 00036: val_loss improved from 0.07508 to 0.07408, saving model to Models/trajectories_model_alpha_(12/05) (T = 200, ks = 8, 3_cnn, causal).hdf5\n",
      "Epoch 37/1000\n",
      "600/600 [==============================] - 613s 1s/step - loss: 0.0701 - val_loss: 0.0734\n",
      "\n",
      "Epoch 00037: val_loss improved from 0.07408 to 0.07339, saving model to Models/trajectories_model_alpha_(12/05) (T = 200, ks = 8, 3_cnn, causal).hdf5\n",
      "Epoch 38/1000\n",
      "600/600 [==============================] - 612s 1s/step - loss: 0.0698 - val_loss: 0.0741\n",
      "\n",
      "Epoch 00038: val_loss did not improve from 0.07339\n",
      "Epoch 39/1000\n",
      "600/600 [==============================] - 612s 1s/step - loss: 0.0694 - val_loss: 0.0714\n",
      "\n",
      "Epoch 00039: val_loss improved from 0.07339 to 0.07141, saving model to Models/trajectories_model_alpha_(12/05) (T = 200, ks = 8, 3_cnn, causal).hdf5\n",
      "Epoch 40/1000\n",
      "600/600 [==============================] - 612s 1s/step - loss: 0.0684 - val_loss: 0.0728\n",
      "\n",
      "Epoch 00040: val_loss did not improve from 0.07141\n",
      "Epoch 41/1000\n",
      "600/600 [==============================] - 612s 1s/step - loss: 0.0676 - val_loss: 0.0730\n",
      "\n",
      "Epoch 00041: val_loss did not improve from 0.07141\n",
      "\n",
      "Epoch 00041: ReduceLROnPlateau reducing learning rate to 0.0002500000118743628.\n",
      "Epoch 42/1000\n",
      "600/600 [==============================] - 612s 1s/step - loss: 0.0637 - val_loss: 0.0675\n",
      "\n",
      "Epoch 00042: val_loss improved from 0.07141 to 0.06749, saving model to Models/trajectories_model_alpha_(12/05) (T = 200, ks = 8, 3_cnn, causal).hdf5\n",
      "Epoch 43/1000\n",
      "600/600 [==============================] - 612s 1s/step - loss: 0.0622 - val_loss: 0.0655\n",
      "\n",
      "Epoch 00043: val_loss improved from 0.06749 to 0.06549, saving model to Models/trajectories_model_alpha_(12/05) (T = 200, ks = 8, 3_cnn, causal).hdf5\n",
      "Epoch 44/1000\n",
      "600/600 [==============================] - 611s 1s/step - loss: 0.0613 - val_loss: 0.0670\n",
      "\n",
      "Epoch 00044: val_loss did not improve from 0.06549\n",
      "Epoch 45/1000\n",
      "600/600 [==============================] - 612s 1s/step - loss: 0.0625 - val_loss: 0.0654\n",
      "\n",
      "Epoch 00045: val_loss improved from 0.06549 to 0.06541, saving model to Models/trajectories_model_alpha_(12/05) (T = 200, ks = 8, 3_cnn, causal).hdf5\n",
      "Epoch 46/1000\n",
      "600/600 [==============================] - 612s 1s/step - loss: 0.0604 - val_loss: 0.0651\n",
      "\n",
      "Epoch 00046: val_loss improved from 0.06541 to 0.06509, saving model to Models/trajectories_model_alpha_(12/05) (T = 200, ks = 8, 3_cnn, causal).hdf5\n",
      "Epoch 47/1000\n",
      "600/600 [==============================] - 612s 1s/step - loss: 0.0599 - val_loss: 0.0670\n",
      "\n",
      "Epoch 00047: val_loss did not improve from 0.06509\n",
      "Epoch 48/1000\n",
      "600/600 [==============================] - 612s 1s/step - loss: 0.0596 - val_loss: 0.0643\n",
      "\n",
      "Epoch 00048: val_loss improved from 0.06509 to 0.06427, saving model to Models/trajectories_model_alpha_(12/05) (T = 200, ks = 8, 3_cnn, causal).hdf5\n",
      "Epoch 49/1000\n",
      "600/600 [==============================] - 612s 1s/step - loss: 0.0590 - val_loss: 0.0661\n",
      "\n",
      "Epoch 00049: val_loss did not improve from 0.06427\n",
      "Epoch 50/1000\n",
      "600/600 [==============================] - 612s 1s/step - loss: 0.0584 - val_loss: 0.0640\n",
      "\n",
      "Epoch 00050: val_loss improved from 0.06427 to 0.06398, saving model to Models/trajectories_model_alpha_(12/05) (T = 200, ks = 8, 3_cnn, causal).hdf5\n",
      "Epoch 51/1000\n",
      "600/600 [==============================] - 612s 1s/step - loss: 0.0583 - val_loss: 0.0649\n",
      "\n",
      "Epoch 00051: val_loss did not improve from 0.06398\n",
      "Epoch 52/1000\n",
      "600/600 [==============================] - 612s 1s/step - loss: 0.0580 - val_loss: 0.0648\n",
      "\n",
      "Epoch 00052: val_loss did not improve from 0.06398\n",
      "\n",
      "Epoch 00052: ReduceLROnPlateau reducing learning rate to 0.0001250000059371814.\n",
      "Epoch 53/1000\n",
      "600/600 [==============================] - 612s 1s/step - loss: 0.0559 - val_loss: 0.0619\n",
      "\n",
      "Epoch 00053: val_loss improved from 0.06398 to 0.06186, saving model to Models/trajectories_model_alpha_(12/05) (T = 200, ks = 8, 3_cnn, causal).hdf5\n",
      "Epoch 54/1000\n",
      "600/600 [==============================] - 612s 1s/step - loss: 0.0552 - val_loss: 0.0613\n",
      "\n",
      "Epoch 00054: val_loss improved from 0.06186 to 0.06126, saving model to Models/trajectories_model_alpha_(12/05) (T = 200, ks = 8, 3_cnn, causal).hdf5\n",
      "Epoch 55/1000\n",
      "600/600 [==============================] - 613s 1s/step - loss: 0.0547 - val_loss: 0.0612\n",
      "\n",
      "Epoch 00055: val_loss improved from 0.06126 to 0.06120, saving model to Models/trajectories_model_alpha_(12/05) (T = 200, ks = 8, 3_cnn, causal).hdf5\n",
      "Epoch 56/1000\n",
      "600/600 [==============================] - 613s 1s/step - loss: 0.0544 - val_loss: 0.0626\n",
      "\n",
      "Epoch 00056: val_loss did not improve from 0.06120\n",
      "Epoch 57/1000\n",
      "600/600 [==============================] - 613s 1s/step - loss: 0.0544 - val_loss: 0.0617\n",
      "\n",
      "Epoch 00057: val_loss did not improve from 0.06120\n",
      "\n",
      "Epoch 00057: ReduceLROnPlateau reducing learning rate to 6.25000029685907e-05.\n",
      "Epoch 58/1000\n",
      "600/600 [==============================] - 613s 1s/step - loss: 0.0532 - val_loss: 0.0602\n",
      "\n",
      "Epoch 00058: val_loss improved from 0.06120 to 0.06016, saving model to Models/trajectories_model_alpha_(12/05) (T = 200, ks = 8, 3_cnn, causal).hdf5\n",
      "Epoch 59/1000\n",
      "600/600 [==============================] - 612s 1s/step - loss: 0.0529 - val_loss: 0.0603\n",
      "\n",
      "Epoch 00059: val_loss did not improve from 0.06016\n",
      "Epoch 60/1000\n",
      "600/600 [==============================] - 612s 1s/step - loss: 0.0526 - val_loss: 0.0602\n",
      "\n",
      "Epoch 00060: val_loss did not improve from 0.06016\n",
      "\n",
      "Epoch 00060: ReduceLROnPlateau reducing learning rate to 3.125000148429535e-05.\n",
      "Epoch 61/1000\n",
      "600/600 [==============================] - 613s 1s/step - loss: 0.0521 - val_loss: 0.0598\n",
      "\n",
      "Epoch 00061: val_loss improved from 0.06016 to 0.05977, saving model to Models/trajectories_model_alpha_(12/05) (T = 200, ks = 8, 3_cnn, causal).hdf5\n",
      "Epoch 62/1000\n",
      "600/600 [==============================] - 612s 1s/step - loss: 0.0519 - val_loss: 0.0594\n",
      "\n",
      "Epoch 00062: val_loss improved from 0.05977 to 0.05944, saving model to Models/trajectories_model_alpha_(12/05) (T = 200, ks = 8, 3_cnn, causal).hdf5\n",
      "Epoch 63/1000\n",
      "600/600 [==============================] - 612s 1s/step - loss: 0.0518 - val_loss: 0.0593\n",
      "\n",
      "Epoch 00063: val_loss improved from 0.05944 to 0.05926, saving model to Models/trajectories_model_alpha_(12/05) (T = 200, ks = 8, 3_cnn, causal).hdf5\n",
      "Epoch 64/1000\n",
      "600/600 [==============================] - 612s 1s/step - loss: 0.0516 - val_loss: 0.0594\n",
      "\n",
      "Epoch 00064: val_loss did not improve from 0.05926\n",
      "Epoch 65/1000\n",
      "600/600 [==============================] - 612s 1s/step - loss: 0.0515 - val_loss: 0.0595\n",
      "\n",
      "Epoch 00065: val_loss did not improve from 0.05926\n",
      "\n",
      "Epoch 00065: ReduceLROnPlateau reducing learning rate to 1.5625000742147677e-05.\n",
      "Epoch 66/1000\n",
      "600/600 [==============================] - 612s 1s/step - loss: 0.0513 - val_loss: 0.0590\n",
      "\n",
      "Epoch 00066: val_loss improved from 0.05926 to 0.05896, saving model to Models/trajectories_model_alpha_(12/05) (T = 200, ks = 8, 3_cnn, causal).hdf5\n",
      "Epoch 67/1000\n",
      "600/600 [==============================] - 612s 1s/step - loss: 0.0512 - val_loss: 0.0589\n",
      "\n",
      "Epoch 00067: val_loss improved from 0.05896 to 0.05890, saving model to Models/trajectories_model_alpha_(12/05) (T = 200, ks = 8, 3_cnn, causal).hdf5\n",
      "Epoch 68/1000\n",
      "600/600 [==============================] - 612s 1s/step - loss: 0.0511 - val_loss: 0.0590\n",
      "\n",
      "Epoch 00068: val_loss did not improve from 0.05890\n",
      "Epoch 69/1000\n",
      "600/600 [==============================] - 613s 1s/step - loss: 0.0510 - val_loss: 0.0590\n",
      "\n",
      "Epoch 00069: val_loss did not improve from 0.05890\n",
      "\n",
      "Epoch 00069: ReduceLROnPlateau reducing learning rate to 7.812500371073838e-06.\n",
      "Epoch 70/1000\n",
      "600/600 [==============================] - 613s 1s/step - loss: 0.0509 - val_loss: 0.0591\n",
      "\n",
      "Epoch 00070: val_loss did not improve from 0.05890\n",
      "Epoch 71/1000\n",
      "600/600 [==============================] - 612s 1s/step - loss: 0.0509 - val_loss: 0.0590\n",
      "\n",
      "Epoch 00071: val_loss did not improve from 0.05890\n",
      "\n",
      "Epoch 00071: ReduceLROnPlateau reducing learning rate to 3.906250185536919e-06.\n",
      "Epoch 72/1000\n",
      "600/600 [==============================] - 612s 1s/step - loss: 0.0508 - val_loss: 0.0589\n",
      "\n",
      "Epoch 00072: val_loss improved from 0.05890 to 0.05887, saving model to Models/trajectories_model_alpha_(12/05) (T = 200, ks = 8, 3_cnn, causal).hdf5\n",
      "Epoch 73/1000\n",
      "600/600 [==============================] - 613s 1s/step - loss: 0.0508 - val_loss: 0.0588\n",
      "\n",
      "Epoch 00073: val_loss improved from 0.05887 to 0.05879, saving model to Models/trajectories_model_alpha_(12/05) (T = 200, ks = 8, 3_cnn, causal).hdf5\n",
      "Epoch 74/1000\n",
      "600/600 [==============================] - 613s 1s/step - loss: 0.0507 - val_loss: 0.0589\n",
      "\n",
      "Epoch 00074: val_loss did not improve from 0.05879\n",
      "Epoch 75/1000\n",
      "600/600 [==============================] - 613s 1s/step - loss: 0.0507 - val_loss: 0.0589\n",
      "\n",
      "Epoch 00075: val_loss did not improve from 0.05879\n",
      "\n",
      "Epoch 00075: ReduceLROnPlateau reducing learning rate to 1.9531250927684596e-06.\n",
      "Epoch 76/1000\n",
      "600/600 [==============================] - 612s 1s/step - loss: 0.0507 - val_loss: 0.0589\n",
      "\n",
      "Epoch 00076: val_loss did not improve from 0.05879\n",
      "Epoch 77/1000\n",
      "600/600 [==============================] - 612s 1s/step - loss: 0.0507 - val_loss: 0.0588\n",
      "\n",
      "Epoch 00077: val_loss did not improve from 0.05879\n",
      "\n",
      "Epoch 00077: ReduceLROnPlateau reducing learning rate to 9.765625463842298e-07.\n",
      "Epoch 78/1000\n",
      "600/600 [==============================] - 612s 1s/step - loss: 0.0507 - val_loss: 0.0589\n",
      "\n",
      "Epoch 00078: val_loss did not improve from 0.05879\n",
      "Epoch 79/1000\n",
      "600/600 [==============================] - 612s 1s/step - loss: 0.0507 - val_loss: 0.0588\n",
      "\n",
      "Epoch 00079: val_loss did not improve from 0.05879\n",
      "\n",
      "Epoch 00079: ReduceLROnPlateau reducing learning rate to 4.882812731921149e-07.\n",
      "Epoch 80/1000\n",
      "600/600 [==============================] - 612s 1s/step - loss: 0.0506 - val_loss: 0.0588\n",
      "\n",
      "Epoch 00080: val_loss did not improve from 0.05879\n",
      "Epoch 81/1000\n",
      "600/600 [==============================] - 612s 1s/step - loss: 0.0506 - val_loss: 0.0588\n",
      "\n",
      "Epoch 00081: val_loss did not improve from 0.05879\n",
      "\n",
      "Epoch 00081: ReduceLROnPlateau reducing learning rate to 2.4414063659605745e-07.\n",
      "Epoch 82/1000\n",
      "600/600 [==============================] - 613s 1s/step - loss: 0.0506 - val_loss: 0.0589\n",
      "\n",
      "Epoch 00082: val_loss did not improve from 0.05879\n",
      "Epoch 83/1000\n",
      "600/600 [==============================] - 613s 1s/step - loss: 0.0506 - val_loss: 0.0587\n",
      "\n",
      "Epoch 00083: val_loss improved from 0.05879 to 0.05875, saving model to Models/trajectories_model_alpha_(12/05) (T = 200, ks = 8, 3_cnn, causal).hdf5\n",
      "Epoch 84/1000\n",
      "600/600 [==============================] - 612s 1s/step - loss: 0.0506 - val_loss: 0.0588\n",
      "\n",
      "Epoch 00084: val_loss did not improve from 0.05875\n",
      "Epoch 85/1000\n",
      "600/600 [==============================] - 612s 1s/step - loss: 0.0506 - val_loss: 0.0589\n",
      "\n",
      "Epoch 00085: val_loss did not improve from 0.05875\n",
      "\n",
      "Epoch 00085: ReduceLROnPlateau reducing learning rate to 1.2207031829802872e-07.\n",
      "Epoch 86/1000\n",
      "600/600 [==============================] - 612s 1s/step - loss: 0.0506 - val_loss: 0.0588\n",
      "\n",
      "Epoch 00086: val_loss did not improve from 0.05875\n",
      "Epoch 87/1000\n",
      "600/600 [==============================] - 612s 1s/step - loss: 0.0506 - val_loss: 0.0588\n",
      "\n",
      "Epoch 00087: val_loss did not improve from 0.05875\n",
      "\n",
      "Epoch 00087: ReduceLROnPlateau reducing learning rate to 1e-07.\n",
      "Epoch 88/1000\n",
      "600/600 [==============================] - 612s 1s/step - loss: 0.0506 - val_loss: 0.0588\n",
      "\n",
      "Epoch 00088: val_loss did not improve from 0.05875\n",
      "Epoch 89/1000\n",
      "600/600 [==============================] - 612s 1s/step - loss: 0.0506 - val_loss: 0.0588\n",
      "\n",
      "Epoch 00089: val_loss did not improve from 0.05875\n",
      "Epoch 90/1000\n",
      "600/600 [==============================] - 612s 1s/step - loss: 0.0507 - val_loss: 0.0588\n",
      "\n",
      "Epoch 00090: val_loss did not improve from 0.05875\n",
      "Epoch 91/1000\n",
      "600/600 [==============================] - 612s 1s/step - loss: 0.0506 - val_loss: 0.0588\n",
      "\n",
      "Epoch 00091: val_loss did not improve from 0.05875\n",
      "Epoch 92/1000\n",
      "600/600 [==============================] - 612s 1s/step - loss: 0.0506 - val_loss: 0.0588\n",
      "\n",
      "Epoch 00092: val_loss did not improve from 0.05875\n",
      "Epoch 93/1000\n",
      "600/600 [==============================] - 612s 1s/step - loss: 0.0507 - val_loss: 0.0588\n",
      "\n",
      "Epoch 00093: val_loss did not improve from 0.05875\n",
      "Epoch 94/1000\n",
      "600/600 [==============================] - 611s 1s/step - loss: 0.0506 - val_loss: 0.0588\n",
      "\n",
      "Epoch 00094: val_loss did not improve from 0.05875\n",
      "Epoch 95/1000\n",
      "600/600 [==============================] - 612s 1s/step - loss: 0.0507 - val_loss: 0.0588\n",
      "\n",
      "Epoch 00095: val_loss did not improve from 0.05875\n",
      "Epoch 96/1000\n",
      "600/600 [==============================] - 611s 1s/step - loss: 0.0506 - val_loss: 0.0588\n",
      "\n",
      "Epoch 00096: val_loss did not improve from 0.05875\n",
      "Epoch 97/1000\n",
      "600/600 [==============================] - 613s 1s/step - loss: 0.0507 - val_loss: 0.0588\n",
      "\n",
      "Epoch 00097: val_loss did not improve from 0.05875\n",
      "Epoch 98/1000\n",
      "600/600 [==============================] - 612s 1s/step - loss: 0.0506 - val_loss: 0.0587\n",
      "\n",
      "Epoch 00098: val_loss did not improve from 0.05875\n",
      "Epoch 99/1000\n",
      "600/600 [==============================] - 612s 1s/step - loss: 0.0506 - val_loss: 0.0588\n",
      "\n",
      "Epoch 00099: val_loss did not improve from 0.05875\n",
      "Epoch 100/1000\n",
      "600/600 [==============================] - 612s 1s/step - loss: 0.0506 - val_loss: 0.0588\n",
      "\n",
      "Epoch 00100: val_loss did not improve from 0.05875\n",
      "Epoch 101/1000\n",
      "600/600 [==============================] - 612s 1s/step - loss: 0.0506 - val_loss: 0.0588\n",
      "\n",
      "Epoch 00101: val_loss did not improve from 0.05875\n",
      "Epoch 102/1000\n",
      "600/600 [==============================] - 612s 1s/step - loss: 0.0507 - val_loss: 0.0588\n",
      "\n",
      "Epoch 00102: val_loss did not improve from 0.05875\n",
      "Epoch 103/1000\n",
      "600/600 [==============================] - 612s 1s/step - loss: 0.0506 - val_loss: 0.0588\n",
      "\n",
      "Epoch 00103: val_loss did not improve from 0.05875\n"
     ]
    }
   ],
   "source": [
    "from tensorflow.keras.models import Model\n",
    "from tensorflow.keras.optimizers import Adam\n",
    "from tensorflow.keras.layers import Input, Conv1D, BatchNormalization, Activation, MaxPooling1D, Flatten, TimeDistributed\n",
    "from tensorflow.keras.layers import Dropout, Bidirectional, LSTM, Attention, Multiply, Reshape, Permute, Dense\n",
    "from tensorflow.keras import regularizers\n",
    "from tensorflow.keras.backend import clear_session\n",
    "from tensorflow.keras.callbacks import ModelCheckpoint, EarlyStopping, ReduceLROnPlateau\n",
    "import pickle\n",
    "import numpy as np\n",
    "import matplotlib.pyplot as plt\n",
    "import tensorflow as tf\n",
    "\n",
    "for f_num in range(0,1):\n",
    "    T = 200\n",
    "    kernel_size= 8\n",
    "    model_path = 'Models/' + 'trajectories_model_alpha_(12/05) (T = {}, ks = {}, 3_cnn, causal).hdf5'.format(\n",
    "        T, kernel_size)\n",
    "\n",
    "    cb_checkpoint = ModelCheckpoint(filepath=model_path, monitor='val_loss', mode = 'min',\\\n",
    "                                    verbose=1, save_best_only=True)\n",
    "    cb_early_stopping = EarlyStopping(monitor='val_loss', mode = 'min', patience= 20)\n",
    "\n",
    "    # Compile model\n",
    "\n",
    "    rlr = ReduceLROnPlateau(monitor='val_loss', factor=0.5, patience= 2, min_lr=1e-7, \\\n",
    "                            verbose=1, min_delta=1e-5)\n",
    "\n",
    "\n",
    "    l1 = 1e-5\n",
    "    l2 = 1e-4\n",
    "    lr = 1e-3\n",
    "    \n",
    "    strides=1\n",
    "    activation='relu'\n",
    "\n",
    "    inputs = Input(shape=(T,2), name='input1')\n",
    "    \n",
    "\n",
    "    \n",
    "  \n",
    "    \n",
    "    x = Conv1D(512, kernel_size=kernel_size, padding = 'causal')(inputs)\n",
    "    x = BatchNormalization()(x)\n",
    "    x = Conv1D(512, kernel_size=kernel_size, padding = 'causal')(x)\n",
    "    x = BatchNormalization()(x)\n",
    "    x = Conv1D(512, kernel_size=kernel_size, padding = 'causal')(x)\n",
    "    x = BatchNormalization()(x)\n",
    "\n",
    "\n",
    "    x = Bidirectional(LSTM(1024, activation='tanh', return_sequences=True))(x)\n",
    "    x = BatchNormalization()(x)\n",
    "\n",
    "    x = Bidirectional(LSTM(512, activation='tanh', return_sequences=True))(x)\n",
    "    x = BatchNormalization()(x)\n",
    "\n",
    "    x = Bidirectional(LSTM(256, activation='tanh', return_sequences=False))(x)\n",
    "\n",
    "    \n",
    "    x = BatchNormalization()(x)\n",
    "    x = Dropout(0.4)(x)\n",
    "    \n",
    "    outputs = Dense(\n",
    "            200,\n",
    "            activation=activation,\n",
    "            kernel_regularizer=regularizers.l1_l2(l1=l1, l2=l2)\n",
    "        )(x)\n",
    "\n",
    "    model = Model(inputs=inputs, outputs=outputs)\n",
    "    model.summary()\n",
    "\n",
    "\n",
    "    model.compile(optimizer= Adam(lr),\n",
    "                      loss='mae')\n",
    "\n",
    " \n",
    "\n",
    "    val_loss_history = ValLossHistory()\n",
    "    \n",
    "    history = model.fit(train_input, train_output, epochs = 1000, batch_size= 500, verbose=1, \\\n",
    "                               validation_data=(val_input, val_output),callbacks=[cb_checkpoint, cb_early_stopping, rlr, val_loss_history])\n"
   ]
  },
  {
   "cell_type": "code",
   "execution_count": 6,
   "id": "aabf461b",
   "metadata": {
    "ExecuteTime": {
     "end_time": "2024-12-12T04:39:55.386357Z",
     "start_time": "2024-12-12T04:39:55.260674Z"
    }
   },
   "outputs": [
    {
     "data": {
      "text/plain": [
       "[<matplotlib.lines.Line2D at 0x7f4b4c587d00>]"
      ]
     },
     "execution_count": 6,
     "metadata": {},
     "output_type": "execute_result"
    },
    {
     "data": {
      "image/png": "[encoded data removed]",
      "text/plain": [
       "<Figure size 432x288 with 1 Axes>"
      ]
     },
     "metadata": {
      "needs_background": "light"
     },
     "output_type": "display_data"
    }
   ],
   "source": [
    "plt.plot(val_loss_history.val_loss_list)"
   ]
  },
  {
   "cell_type": "code",
   "execution_count": 7,
   "id": "f0196cf3",
   "metadata": {
    "ExecuteTime": {
     "end_time": "2024-12-12T04:41:03.575948Z",
     "start_time": "2024-12-12T04:41:03.570690Z"
    }
   },
   "outputs": [],
   "source": [
    "with open('learning curve(val_loss)/trajectories_model_alpha_(12.05) (T = {}, ks = {}, 3_cnn, causal)'.format(T, tau), 'wb') as f:\n",
    "    pickle.dump(val_loss_history.val_loss_list, f)"
   ]
  },
  {
   "cell_type": "code",
   "execution_count": 1,
   "id": "9ed60a48",
   "metadata": {
    "ExecuteTime": {
     "end_time": "2025-03-03T06:59:50.226596Z",
     "start_time": "2025-03-03T06:59:50.221902Z"
    }
   },
   "outputs": [],
   "source": [
    "\n",
    "import pickle\n",
    "import matplotlib.pyplot as plt\n",
    "\n",
    "T = 200\n",
    "kernel_size = 8\n",
    "with open('learning curve(val_loss)/trajectories_model_alpha_(12.05) (T = {}, ks = {}, 1_cnn, causal)'.format(T, kernel_size), mode='rb') as f:\n",
    "    val_loss1 = pickle.load(f)\n",
    "    \n",
    "with open('learning curve(val_loss)/trajectories_model_alpha_(12.05) (T = {}, ks = {}, 2_cnn, causal)'.format(T, kernel_size), mode='rb') as f:\n",
    "    val_loss2 = pickle.load(f)\n",
    "    \n",
    "with open('learning curve(val_loss)/trajectories_model_alpha_(12.05) (T = {}, ks = {}, 3_cnn, causal)'.format(T, kernel_size), mode='rb') as f:\n",
    "    val_loss3 = pickle.load(f)"
   ]
  },
  {
   "cell_type": "code",
   "execution_count": 2,
   "id": "2a73a130",
   "metadata": {
    "ExecuteTime": {
     "end_time": "2025-03-03T06:59:52.335123Z",
     "start_time": "2025-03-03T06:59:52.139754Z"
    }
   },
   "outputs": [
    {
     "data": {
      "text/plain": [
       "[<matplotlib.lines.Line2D at 0x7ffb58bcab50>]"
      ]
     },
     "execution_count": 2,
     "metadata": {},
     "output_type": "execute_result"
    },
    {
     "data": {
      "image/png": "[encoded data removed]",
      "text/plain": [
       "<Figure size 432x288 with 1 Axes>"
      ]
     },
     "metadata": {
      "needs_background": "light"
     },
     "output_type": "display_data"
    }
   ],
   "source": [
    "plt.plot(val_loss1)\n",
    "plt.plot(val_loss2)\n",
    "plt.plot(val_loss3)"
   ]
  },
  {
   "cell_type": "code",
   "execution_count": 4,
   "id": "75259a66",
   "metadata": {
    "ExecuteTime": {
     "end_time": "2025-03-03T07:00:01.028384Z",
     "start_time": "2025-03-03T07:00:01.024047Z"
    }
   },
   "outputs": [
    {
     "name": "stdout",
     "output_type": "stream",
     "text": [
      "0.07281647622585297\n",
      "0.06762491911649704\n",
      "0.05874839425086975\n"
     ]
    }
   ],
   "source": [
    "import numpy as np\n",
    "\n",
    "print(np.min(val_loss1))\n",
    "print(np.min(val_loss2))\n",
    "print(np.min(val_loss3))"
   ]
  },
  {
   "cell_type": "code",
   "execution_count": 6,
   "id": "e4c7ccf1",
   "metadata": {
    "ExecuteTime": {
     "end_time": "2025-03-03T07:00:30.666054Z",
     "start_time": "2025-03-03T07:00:30.661798Z"
    }
   },
   "outputs": [],
   "source": [
    "\n",
    "import pickle\n",
    "import matplotlib.pyplot as plt\n",
    "with open('learning curve(val_loss)/trajectories_model_alpha_(12.05) (T = {}, ks = {}, 1_cnn)'.format(T, kernel_size), mode='rb') as f:\n",
    "    val_loss1 = pickle.load(f)\n",
    "    \n",
    "with open('learning curve(val_loss)/trajectories_model_alpha_(12.05) (T = {}, ks = {}, 2_cnn)'.format(T, kernel_size), mode='rb') as f:\n",
    "    val_loss2 = pickle.load(f)\n",
    "    \n",
    "with open('learning curve(val_loss)/trajectories_model_alpha_(12.05) (T = {}, ks = {}, 3_cnn)'.format(T, kernel_size), mode='rb') as f:\n",
    "    val_loss3 = pickle.load(f)"
   ]
  },
  {
   "cell_type": "code",
   "execution_count": 7,
   "id": "b2f62bd6",
   "metadata": {
    "ExecuteTime": {
     "end_time": "2025-03-03T07:00:32.329171Z",
     "start_time": "2025-03-03T07:00:32.153086Z"
    }
   },
   "outputs": [
    {
     "data": {
      "text/plain": [
       "[<matplotlib.lines.Line2D at 0x7ffb58a422e0>]"
      ]
     },
     "execution_count": 7,
     "metadata": {},
     "output_type": "execute_result"
    },
    {
     "data": {
      "image/png": "[encoded data removed]",
      "text/plain": [
       "<Figure size 432x288 with 1 Axes>"
      ]
     },
     "metadata": {
      "needs_background": "light"
     },
     "output_type": "display_data"
    }
   ],
   "source": [
    "plt.plot(val_loss1)\n",
    "plt.plot(val_loss2)\n",
    "plt.plot(val_loss3)"
   ]
  },
  {
   "cell_type": "code",
   "execution_count": 8,
   "id": "0b6dd341",
   "metadata": {
    "ExecuteTime": {
     "end_time": "2025-03-03T07:00:33.240934Z",
     "start_time": "2025-03-03T07:00:33.235893Z"
    }
   },
   "outputs": [
    {
     "name": "stdout",
     "output_type": "stream",
     "text": [
      "0.06848110258579254\n",
      "0.05975636467337608\n",
      "0.0694260448217392\n"
     ]
    }
   ],
   "source": [
    "print(np.min(val_loss1))\n",
    "print(np.min(val_loss2))\n",
    "print(np.min(val_loss3))"
   ]
  },
  {
   "cell_type": "code",
   "execution_count": null,
   "id": "9d1d300c",
   "metadata": {
    "ExecuteTime": {
     "start_time": "2025-03-03T06:59:14.131Z"
    }
   },
   "outputs": [],
   "source": [
    "from tensorflow import keras\n",
    "from tensorflow.keras.models import Model\n",
    "from tensorflow.keras.optimizers import Adam\n",
    "from tensorflow.keras.layers import Input, Conv1D, BatchNormalization, Activation, MaxPooling1D, Flatten, TimeDistributed\n",
    "from tensorflow.keras.layers import Dropout, Bidirectional, LSTM, Attention, Multiply, Reshape, Permute, Dense\n",
    "from tensorflow.keras import regularizers\n",
    "from tensorflow.keras.backend import clear_session\n",
    "from tensorflow.keras.callbacks import ModelCheckpoint, EarlyStopping, ReduceLROnPlateau\n",
    "import pickle\n",
    "import numpy as np\n",
    "import matplotlib.pyplot as plt\n",
    "import tensorflow as tf\n",
    "\n",
    "T = 200\n",
    "tau = 3\n",
    "kernel_size = 8\n",
    "model_path = 'Models/' + 'trajectories_model_alpha_(12/05) (T = {}, ks = {}, 3_cnn).hdf5'.format(T, kernel_size, kernel_size)\n",
    "model = keras.models.load_model(model_path)"
   ]
  },
  {
   "cell_type": "code",
   "execution_count": null,
   "id": "842e1bd2",
   "metadata": {},
   "outputs": [],
   "source": [
    "model.summary()"
   ]
  },
  {
   "cell_type": "code",
   "execution_count": 4,
   "id": "c5bfe5fd",
   "metadata": {
    "ExecuteTime": {
     "end_time": "2024-11-30T07:05:32.722818Z",
     "start_time": "2024-11-30T07:05:28.167365Z"
    }
   },
   "outputs": [],
   "source": [
    "from tensorflow import keras\n",
    "from tensorflow.keras.models import Model\n",
    "from tensorflow.keras.optimizers import Adam\n",
    "from tensorflow.keras.layers import Input, Conv1D, BatchNormalization, Activation, MaxPooling1D, Flatten, TimeDistributed\n",
    "from tensorflow.keras.layers import Dropout, Bidirectional, LSTM, Attention, Multiply, Reshape, Permute, Dense\n",
    "from tensorflow.keras import regularizers\n",
    "from tensorflow.keras.backend import clear_session\n",
    "from tensorflow.keras.callbacks import ModelCheckpoint, EarlyStopping, ReduceLROnPlateau\n",
    "import pickle\n",
    "import numpy as np\n",
    "import matplotlib.pyplot as plt\n",
    "import tensorflow as tf\n",
    "\n",
    "T = 200\n",
    "tau = 3\n",
    "kernel_size = 8\n",
    "model_path = 'Models/' + 'model_alpha_(11/26) (T = {}, tau = {}, ks = {}).hdf5'.format(T, tau, kernel_size)\n",
    "model = keras.models.load_model(model_path)\n",
    "\n",
    "\n",
    "cb_checkpoint = ModelCheckpoint(filepath=model_path, monitor='val_loss', mode = 'min',\\\n",
    "                                    verbose=1, save_best_only=True)\n",
    "cb_early_stopping = EarlyStopping(monitor='val_loss', mode = 'min', patience= 20)\n",
    "\n",
    "    # Compile model\n",
    "\n",
    "rlr = ReduceLROnPlateau(monitor='val_loss', factor=0.5, patience= 2, min_lr=1e-7, \\\n",
    "                            verbose=1, min_delta=1e-5)\n",
    "\n",
    "\n",
    "lr = 7.812500371073838e-06\n",
    "model.compile(optimizer= Adam(lr),\n",
    "                      loss='mae')"
   ]
  },
  {
   "cell_type": "code",
   "execution_count": 5,
   "id": "2b6348bf",
   "metadata": {
    "ExecuteTime": {
     "end_time": "2024-11-30T07:13:28.806042Z",
     "start_time": "2024-11-30T07:05:41.825116Z"
    }
   },
   "outputs": [
    {
     "name": "stdout",
     "output_type": "stream",
     "text": [
      "Epoch 1/1000\n",
      "474/600 [======================>.......] - ETA: 2:01 - loss: 0.0551"
     ]
    },
    {
     "ename": "KeyboardInterrupt",
     "evalue": "",
     "output_type": "error",
     "traceback": [
      "\u001b[0;31m---------------------------------------------------------------------------\u001b[0m",
      "\u001b[0;31mKeyboardInterrupt\u001b[0m                         Traceback (most recent call last)",
      "\u001b[0;32m<ipython-input-5-9cb027f8f7e7>\u001b[0m in \u001b[0;36m<module>\u001b[0;34m\u001b[0m\n\u001b[0;32m----> 1\u001b[0;31m history = model.fit(train_input, train_output, epochs = 1000, batch_size= 500, verbose=1,\\\n\u001b[0m\u001b[1;32m      2\u001b[0m                     validation_data=(val_input, val_output),callbacks=[cb_checkpoint, cb_early_stopping, rlr])\n",
      "\u001b[0;32m/opt/conda/lib/python3.8/site-packages/tensorflow/python/keras/engine/training.py\u001b[0m in \u001b[0;36mfit\u001b[0;34m(self, x, y, batch_size, epochs, verbose, callbacks, validation_split, validation_data, shuffle, class_weight, sample_weight, initial_epoch, steps_per_epoch, validation_steps, validation_batch_size, validation_freq, max_queue_size, workers, use_multiprocessing)\u001b[0m\n\u001b[1;32m   1186\u001b[0m               \u001b[0mlogs\u001b[0m \u001b[0;34m=\u001b[0m \u001b[0mtmp_logs\u001b[0m  \u001b[0;31m# No error, now safe to assign to logs.\u001b[0m\u001b[0;34m\u001b[0m\u001b[0;34m\u001b[0m\u001b[0m\n\u001b[1;32m   1187\u001b[0m               \u001b[0mend_step\u001b[0m \u001b[0;34m=\u001b[0m \u001b[0mstep\u001b[0m \u001b[0;34m+\u001b[0m \u001b[0mdata_handler\u001b[0m\u001b[0;34m.\u001b[0m\u001b[0mstep_increment\u001b[0m\u001b[0;34m\u001b[0m\u001b[0;34m\u001b[0m\u001b[0m\n\u001b[0;32m-> 1188\u001b[0;31m               \u001b[0mcallbacks\u001b[0m\u001b[0;34m.\u001b[0m\u001b[0mon_train_batch_end\u001b[0m\u001b[0;34m(\u001b[0m\u001b[0mend_step\u001b[0m\u001b[0;34m,\u001b[0m \u001b[0mlogs\u001b[0m\u001b[0;34m)\u001b[0m\u001b[0;34m\u001b[0m\u001b[0;34m\u001b[0m\u001b[0m\n\u001b[0m\u001b[1;32m   1189\u001b[0m               \u001b[0;32mif\u001b[0m \u001b[0mself\u001b[0m\u001b[0;34m.\u001b[0m\u001b[0mstop_training\u001b[0m\u001b[0;34m:\u001b[0m\u001b[0;34m\u001b[0m\u001b[0;34m\u001b[0m\u001b[0m\n\u001b[1;32m   1190\u001b[0m                 \u001b[0;32mbreak\u001b[0m\u001b[0;34m\u001b[0m\u001b[0;34m\u001b[0m\u001b[0m\n",
      "\u001b[0;32m/opt/conda/lib/python3.8/site-packages/tensorflow/python/keras/callbacks.py\u001b[0m in \u001b[0;36mon_train_batch_end\u001b[0;34m(self, batch, logs)\u001b[0m\n\u001b[1;32m    455\u001b[0m     \"\"\"\n\u001b[1;32m    456\u001b[0m     \u001b[0;32mif\u001b[0m \u001b[0mself\u001b[0m\u001b[0;34m.\u001b[0m\u001b[0m_should_call_train_batch_hooks\u001b[0m\u001b[0;34m:\u001b[0m\u001b[0;34m\u001b[0m\u001b[0;34m\u001b[0m\u001b[0m\n\u001b[0;32m--> 457\u001b[0;31m       \u001b[0mself\u001b[0m\u001b[0;34m.\u001b[0m\u001b[0m_call_batch_hook\u001b[0m\u001b[0;34m(\u001b[0m\u001b[0mModeKeys\u001b[0m\u001b[0;34m.\u001b[0m\u001b[0mTRAIN\u001b[0m\u001b[0;34m,\u001b[0m \u001b[0;34m'end'\u001b[0m\u001b[0;34m,\u001b[0m \u001b[0mbatch\u001b[0m\u001b[0;34m,\u001b[0m \u001b[0mlogs\u001b[0m\u001b[0;34m=\u001b[0m\u001b[0mlogs\u001b[0m\u001b[0;34m)\u001b[0m\u001b[0;34m\u001b[0m\u001b[0;34m\u001b[0m\u001b[0m\n\u001b[0m\u001b[1;32m    458\u001b[0m \u001b[0;34m\u001b[0m\u001b[0m\n\u001b[1;32m    459\u001b[0m   \u001b[0;32mdef\u001b[0m \u001b[0mon_test_batch_begin\u001b[0m\u001b[0;34m(\u001b[0m\u001b[0mself\u001b[0m\u001b[0;34m,\u001b[0m \u001b[0mbatch\u001b[0m\u001b[0;34m,\u001b[0m \u001b[0mlogs\u001b[0m\u001b[0;34m=\u001b[0m\u001b[0;32mNone\u001b[0m\u001b[0;34m)\u001b[0m\u001b[0;34m:\u001b[0m\u001b[0;34m\u001b[0m\u001b[0;34m\u001b[0m\u001b[0m\n",
      "\u001b[0;32m/opt/conda/lib/python3.8/site-packages/tensorflow/python/keras/callbacks.py\u001b[0m in \u001b[0;36m_call_batch_hook\u001b[0;34m(self, mode, hook, batch, logs)\u001b[0m\n\u001b[1;32m    315\u001b[0m       \u001b[0mself\u001b[0m\u001b[0;34m.\u001b[0m\u001b[0m_call_batch_begin_hook\u001b[0m\u001b[0;34m(\u001b[0m\u001b[0mmode\u001b[0m\u001b[0;34m,\u001b[0m \u001b[0mbatch\u001b[0m\u001b[0;34m,\u001b[0m \u001b[0mlogs\u001b[0m\u001b[0;34m)\u001b[0m\u001b[0;34m\u001b[0m\u001b[0;34m\u001b[0m\u001b[0m\n\u001b[1;32m    316\u001b[0m     \u001b[0;32melif\u001b[0m \u001b[0mhook\u001b[0m \u001b[0;34m==\u001b[0m \u001b[0;34m'end'\u001b[0m\u001b[0;34m:\u001b[0m\u001b[0;34m\u001b[0m\u001b[0;34m\u001b[0m\u001b[0m\n\u001b[0;32m--> 317\u001b[0;31m       \u001b[0mself\u001b[0m\u001b[0;34m.\u001b[0m\u001b[0m_call_batch_end_hook\u001b[0m\u001b[0;34m(\u001b[0m\u001b[0mmode\u001b[0m\u001b[0;34m,\u001b[0m \u001b[0mbatch\u001b[0m\u001b[0;34m,\u001b[0m \u001b[0mlogs\u001b[0m\u001b[0;34m)\u001b[0m\u001b[0;34m\u001b[0m\u001b[0;34m\u001b[0m\u001b[0m\n\u001b[0m\u001b[1;32m    318\u001b[0m     \u001b[0;32melse\u001b[0m\u001b[0;34m:\u001b[0m\u001b[0;34m\u001b[0m\u001b[0;34m\u001b[0m\u001b[0m\n\u001b[1;32m    319\u001b[0m       \u001b[0;32mraise\u001b[0m \u001b[0mValueError\u001b[0m\u001b[0;34m(\u001b[0m\u001b[0;34m'Unrecognized hook: {}'\u001b[0m\u001b[0;34m.\u001b[0m\u001b[0mformat\u001b[0m\u001b[0;34m(\u001b[0m\u001b[0mhook\u001b[0m\u001b[0;34m)\u001b[0m\u001b[0;34m)\u001b[0m\u001b[0;34m\u001b[0m\u001b[0;34m\u001b[0m\u001b[0m\n",
      "\u001b[0;32m/opt/conda/lib/python3.8/site-packages/tensorflow/python/keras/callbacks.py\u001b[0m in \u001b[0;36m_call_batch_end_hook\u001b[0;34m(self, mode, batch, logs)\u001b[0m\n\u001b[1;32m    335\u001b[0m       \u001b[0mself\u001b[0m\u001b[0;34m.\u001b[0m\u001b[0m_batch_times\u001b[0m\u001b[0;34m.\u001b[0m\u001b[0mappend\u001b[0m\u001b[0;34m(\u001b[0m\u001b[0mbatch_time\u001b[0m\u001b[0;34m)\u001b[0m\u001b[0;34m\u001b[0m\u001b[0;34m\u001b[0m\u001b[0m\n\u001b[1;32m    336\u001b[0m \u001b[0;34m\u001b[0m\u001b[0m\n\u001b[0;32m--> 337\u001b[0;31m     \u001b[0mself\u001b[0m\u001b[0;34m.\u001b[0m\u001b[0m_call_batch_hook_helper\u001b[0m\u001b[0;34m(\u001b[0m\u001b[0mhook_name\u001b[0m\u001b[0;34m,\u001b[0m \u001b[0mbatch\u001b[0m\u001b[0;34m,\u001b[0m \u001b[0mlogs\u001b[0m\u001b[0;34m)\u001b[0m\u001b[0;34m\u001b[0m\u001b[0;34m\u001b[0m\u001b[0m\n\u001b[0m\u001b[1;32m    338\u001b[0m \u001b[0;34m\u001b[0m\u001b[0m\n\u001b[1;32m    339\u001b[0m     \u001b[0;32mif\u001b[0m \u001b[0mlen\u001b[0m\u001b[0;34m(\u001b[0m\u001b[0mself\u001b[0m\u001b[0;34m.\u001b[0m\u001b[0m_batch_times\u001b[0m\u001b[0;34m)\u001b[0m \u001b[0;34m>=\u001b[0m \u001b[0mself\u001b[0m\u001b[0;34m.\u001b[0m\u001b[0m_num_batches_for_timing_check\u001b[0m\u001b[0;34m:\u001b[0m\u001b[0;34m\u001b[0m\u001b[0;34m\u001b[0m\u001b[0m\n",
      "\u001b[0;32m/opt/conda/lib/python3.8/site-packages/tensorflow/python/keras/callbacks.py\u001b[0m in \u001b[0;36m_call_batch_hook_helper\u001b[0;34m(self, hook_name, batch, logs)\u001b[0m\n\u001b[1;32m    373\u001b[0m     \u001b[0;32mfor\u001b[0m \u001b[0mcallback\u001b[0m \u001b[0;32min\u001b[0m \u001b[0mself\u001b[0m\u001b[0;34m.\u001b[0m\u001b[0mcallbacks\u001b[0m\u001b[0;34m:\u001b[0m\u001b[0;34m\u001b[0m\u001b[0;34m\u001b[0m\u001b[0m\n\u001b[1;32m    374\u001b[0m       \u001b[0mhook\u001b[0m \u001b[0;34m=\u001b[0m \u001b[0mgetattr\u001b[0m\u001b[0;34m(\u001b[0m\u001b[0mcallback\u001b[0m\u001b[0;34m,\u001b[0m \u001b[0mhook_name\u001b[0m\u001b[0;34m)\u001b[0m\u001b[0;34m\u001b[0m\u001b[0;34m\u001b[0m\u001b[0m\n\u001b[0;32m--> 375\u001b[0;31m       \u001b[0mhook\u001b[0m\u001b[0;34m(\u001b[0m\u001b[0mbatch\u001b[0m\u001b[0;34m,\u001b[0m \u001b[0mlogs\u001b[0m\u001b[0;34m)\u001b[0m\u001b[0;34m\u001b[0m\u001b[0;34m\u001b[0m\u001b[0m\n\u001b[0m\u001b[1;32m    376\u001b[0m \u001b[0;34m\u001b[0m\u001b[0m\n\u001b[1;32m    377\u001b[0m     \u001b[0;32mif\u001b[0m \u001b[0mself\u001b[0m\u001b[0;34m.\u001b[0m\u001b[0m_check_timing\u001b[0m\u001b[0;34m:\u001b[0m\u001b[0;34m\u001b[0m\u001b[0;34m\u001b[0m\u001b[0m\n",
      "\u001b[0;32m/opt/conda/lib/python3.8/site-packages/tensorflow/python/keras/callbacks.py\u001b[0m in \u001b[0;36mon_train_batch_end\u001b[0;34m(self, batch, logs)\u001b[0m\n\u001b[1;32m   1027\u001b[0m \u001b[0;34m\u001b[0m\u001b[0m\n\u001b[1;32m   1028\u001b[0m   \u001b[0;32mdef\u001b[0m \u001b[0mon_train_batch_end\u001b[0m\u001b[0;34m(\u001b[0m\u001b[0mself\u001b[0m\u001b[0;34m,\u001b[0m \u001b[0mbatch\u001b[0m\u001b[0;34m,\u001b[0m \u001b[0mlogs\u001b[0m\u001b[0;34m=\u001b[0m\u001b[0;32mNone\u001b[0m\u001b[0;34m)\u001b[0m\u001b[0;34m:\u001b[0m\u001b[0;34m\u001b[0m\u001b[0;34m\u001b[0m\u001b[0m\n\u001b[0;32m-> 1029\u001b[0;31m     \u001b[0mself\u001b[0m\u001b[0;34m.\u001b[0m\u001b[0m_batch_update_progbar\u001b[0m\u001b[0;34m(\u001b[0m\u001b[0mbatch\u001b[0m\u001b[0;34m,\u001b[0m \u001b[0mlogs\u001b[0m\u001b[0;34m)\u001b[0m\u001b[0;34m\u001b[0m\u001b[0;34m\u001b[0m\u001b[0m\n\u001b[0m\u001b[1;32m   1030\u001b[0m \u001b[0;34m\u001b[0m\u001b[0m\n\u001b[1;32m   1031\u001b[0m   \u001b[0;32mdef\u001b[0m \u001b[0mon_test_batch_end\u001b[0m\u001b[0;34m(\u001b[0m\u001b[0mself\u001b[0m\u001b[0;34m,\u001b[0m \u001b[0mbatch\u001b[0m\u001b[0;34m,\u001b[0m \u001b[0mlogs\u001b[0m\u001b[0;34m=\u001b[0m\u001b[0;32mNone\u001b[0m\u001b[0;34m)\u001b[0m\u001b[0;34m:\u001b[0m\u001b[0;34m\u001b[0m\u001b[0;34m\u001b[0m\u001b[0m\n",
      "\u001b[0;32m/opt/conda/lib/python3.8/site-packages/tensorflow/python/keras/callbacks.py\u001b[0m in \u001b[0;36m_batch_update_progbar\u001b[0;34m(self, batch, logs)\u001b[0m\n\u001b[1;32m   1099\u001b[0m     \u001b[0;32mif\u001b[0m \u001b[0mself\u001b[0m\u001b[0;34m.\u001b[0m\u001b[0mverbose\u001b[0m \u001b[0;34m==\u001b[0m \u001b[0;36m1\u001b[0m\u001b[0;34m:\u001b[0m\u001b[0;34m\u001b[0m\u001b[0;34m\u001b[0m\u001b[0m\n\u001b[1;32m   1100\u001b[0m       \u001b[0;31m# Only block async when verbose = 1.\u001b[0m\u001b[0;34m\u001b[0m\u001b[0;34m\u001b[0m\u001b[0;34m\u001b[0m\u001b[0m\n\u001b[0;32m-> 1101\u001b[0;31m       \u001b[0mlogs\u001b[0m \u001b[0;34m=\u001b[0m \u001b[0mtf_utils\u001b[0m\u001b[0;34m.\u001b[0m\u001b[0msync_to_numpy_or_python_type\u001b[0m\u001b[0;34m(\u001b[0m\u001b[0mlogs\u001b[0m\u001b[0;34m)\u001b[0m\u001b[0;34m\u001b[0m\u001b[0;34m\u001b[0m\u001b[0m\n\u001b[0m\u001b[1;32m   1102\u001b[0m       \u001b[0mself\u001b[0m\u001b[0;34m.\u001b[0m\u001b[0mprogbar\u001b[0m\u001b[0;34m.\u001b[0m\u001b[0mupdate\u001b[0m\u001b[0;34m(\u001b[0m\u001b[0mself\u001b[0m\u001b[0;34m.\u001b[0m\u001b[0mseen\u001b[0m\u001b[0;34m,\u001b[0m \u001b[0mlist\u001b[0m\u001b[0;34m(\u001b[0m\u001b[0mlogs\u001b[0m\u001b[0;34m.\u001b[0m\u001b[0mitems\u001b[0m\u001b[0;34m(\u001b[0m\u001b[0;34m)\u001b[0m\u001b[0;34m)\u001b[0m\u001b[0;34m,\u001b[0m \u001b[0mfinalize\u001b[0m\u001b[0;34m=\u001b[0m\u001b[0;32mFalse\u001b[0m\u001b[0;34m)\u001b[0m\u001b[0;34m\u001b[0m\u001b[0;34m\u001b[0m\u001b[0m\n\u001b[1;32m   1103\u001b[0m \u001b[0;34m\u001b[0m\u001b[0m\n",
      "\u001b[0;32m/opt/conda/lib/python3.8/site-packages/tensorflow/python/keras/utils/tf_utils.py\u001b[0m in \u001b[0;36msync_to_numpy_or_python_type\u001b[0;34m(tensors)\u001b[0m\n\u001b[1;32m    517\u001b[0m     \u001b[0;32mreturn\u001b[0m \u001b[0mt\u001b[0m  \u001b[0;31m# Don't turn ragged or sparse tensors to NumPy.\u001b[0m\u001b[0;34m\u001b[0m\u001b[0;34m\u001b[0m\u001b[0m\n\u001b[1;32m    518\u001b[0m \u001b[0;34m\u001b[0m\u001b[0m\n\u001b[0;32m--> 519\u001b[0;31m   \u001b[0;32mreturn\u001b[0m \u001b[0mnest\u001b[0m\u001b[0;34m.\u001b[0m\u001b[0mmap_structure\u001b[0m\u001b[0;34m(\u001b[0m\u001b[0m_to_single_numpy_or_python_type\u001b[0m\u001b[0;34m,\u001b[0m \u001b[0mtensors\u001b[0m\u001b[0;34m)\u001b[0m\u001b[0;34m\u001b[0m\u001b[0;34m\u001b[0m\u001b[0m\n\u001b[0m\u001b[1;32m    520\u001b[0m \u001b[0;34m\u001b[0m\u001b[0m\n\u001b[1;32m    521\u001b[0m \u001b[0;34m\u001b[0m\u001b[0m\n",
      "\u001b[0;32m/opt/conda/lib/python3.8/site-packages/tensorflow/python/util/nest.py\u001b[0m in \u001b[0;36mmap_structure\u001b[0;34m(func, *structure, **kwargs)\u001b[0m\n\u001b[1;32m    865\u001b[0m \u001b[0;34m\u001b[0m\u001b[0m\n\u001b[1;32m    866\u001b[0m   return pack_sequence_as(\n\u001b[0;32m--> 867\u001b[0;31m       \u001b[0mstructure\u001b[0m\u001b[0;34m[\u001b[0m\u001b[0;36m0\u001b[0m\u001b[0;34m]\u001b[0m\u001b[0;34m,\u001b[0m \u001b[0;34m[\u001b[0m\u001b[0mfunc\u001b[0m\u001b[0;34m(\u001b[0m\u001b[0;34m*\u001b[0m\u001b[0mx\u001b[0m\u001b[0;34m)\u001b[0m \u001b[0;32mfor\u001b[0m \u001b[0mx\u001b[0m \u001b[0;32min\u001b[0m \u001b[0mentries\u001b[0m\u001b[0;34m]\u001b[0m\u001b[0;34m,\u001b[0m\u001b[0;34m\u001b[0m\u001b[0;34m\u001b[0m\u001b[0m\n\u001b[0m\u001b[1;32m    868\u001b[0m       expand_composites=expand_composites)\n\u001b[1;32m    869\u001b[0m \u001b[0;34m\u001b[0m\u001b[0m\n",
      "\u001b[0;32m/opt/conda/lib/python3.8/site-packages/tensorflow/python/util/nest.py\u001b[0m in \u001b[0;36m<listcomp>\u001b[0;34m(.0)\u001b[0m\n\u001b[1;32m    865\u001b[0m \u001b[0;34m\u001b[0m\u001b[0m\n\u001b[1;32m    866\u001b[0m   return pack_sequence_as(\n\u001b[0;32m--> 867\u001b[0;31m       \u001b[0mstructure\u001b[0m\u001b[0;34m[\u001b[0m\u001b[0;36m0\u001b[0m\u001b[0;34m]\u001b[0m\u001b[0;34m,\u001b[0m \u001b[0;34m[\u001b[0m\u001b[0mfunc\u001b[0m\u001b[0;34m(\u001b[0m\u001b[0;34m*\u001b[0m\u001b[0mx\u001b[0m\u001b[0;34m)\u001b[0m \u001b[0;32mfor\u001b[0m \u001b[0mx\u001b[0m \u001b[0;32min\u001b[0m \u001b[0mentries\u001b[0m\u001b[0;34m]\u001b[0m\u001b[0;34m,\u001b[0m\u001b[0;34m\u001b[0m\u001b[0;34m\u001b[0m\u001b[0m\n\u001b[0m\u001b[1;32m    868\u001b[0m       expand_composites=expand_composites)\n\u001b[1;32m    869\u001b[0m \u001b[0;34m\u001b[0m\u001b[0m\n",
      "\u001b[0;32m/opt/conda/lib/python3.8/site-packages/tensorflow/python/keras/utils/tf_utils.py\u001b[0m in \u001b[0;36m_to_single_numpy_or_python_type\u001b[0;34m(t)\u001b[0m\n\u001b[1;32m    513\u001b[0m   \u001b[0;32mdef\u001b[0m \u001b[0m_to_single_numpy_or_python_type\u001b[0m\u001b[0;34m(\u001b[0m\u001b[0mt\u001b[0m\u001b[0;34m)\u001b[0m\u001b[0;34m:\u001b[0m\u001b[0;34m\u001b[0m\u001b[0;34m\u001b[0m\u001b[0m\n\u001b[1;32m    514\u001b[0m     \u001b[0;32mif\u001b[0m \u001b[0misinstance\u001b[0m\u001b[0;34m(\u001b[0m\u001b[0mt\u001b[0m\u001b[0;34m,\u001b[0m \u001b[0mops\u001b[0m\u001b[0;34m.\u001b[0m\u001b[0mTensor\u001b[0m\u001b[0;34m)\u001b[0m\u001b[0;34m:\u001b[0m\u001b[0;34m\u001b[0m\u001b[0;34m\u001b[0m\u001b[0m\n\u001b[0;32m--> 515\u001b[0;31m       \u001b[0mx\u001b[0m \u001b[0;34m=\u001b[0m \u001b[0mt\u001b[0m\u001b[0;34m.\u001b[0m\u001b[0mnumpy\u001b[0m\u001b[0;34m(\u001b[0m\u001b[0;34m)\u001b[0m\u001b[0;34m\u001b[0m\u001b[0;34m\u001b[0m\u001b[0m\n\u001b[0m\u001b[1;32m    516\u001b[0m       \u001b[0;32mreturn\u001b[0m \u001b[0mx\u001b[0m\u001b[0;34m.\u001b[0m\u001b[0mitem\u001b[0m\u001b[0;34m(\u001b[0m\u001b[0;34m)\u001b[0m \u001b[0;32mif\u001b[0m \u001b[0mnp\u001b[0m\u001b[0;34m.\u001b[0m\u001b[0mndim\u001b[0m\u001b[0;34m(\u001b[0m\u001b[0mx\u001b[0m\u001b[0;34m)\u001b[0m \u001b[0;34m==\u001b[0m \u001b[0;36m0\u001b[0m \u001b[0;32melse\u001b[0m \u001b[0mx\u001b[0m\u001b[0;34m\u001b[0m\u001b[0;34m\u001b[0m\u001b[0m\n\u001b[1;32m    517\u001b[0m     \u001b[0;32mreturn\u001b[0m \u001b[0mt\u001b[0m  \u001b[0;31m# Don't turn ragged or sparse tensors to NumPy.\u001b[0m\u001b[0;34m\u001b[0m\u001b[0;34m\u001b[0m\u001b[0m\n",
      "\u001b[0;32m/opt/conda/lib/python3.8/site-packages/tensorflow/python/framework/ops.py\u001b[0m in \u001b[0;36mnumpy\u001b[0;34m(self)\u001b[0m\n\u001b[1;32m   1092\u001b[0m     \"\"\"\n\u001b[1;32m   1093\u001b[0m     \u001b[0;31m# TODO(slebedev): Consider avoiding a copy for non-CPU or remote tensors.\u001b[0m\u001b[0;34m\u001b[0m\u001b[0;34m\u001b[0m\u001b[0;34m\u001b[0m\u001b[0m\n\u001b[0;32m-> 1094\u001b[0;31m     \u001b[0mmaybe_arr\u001b[0m \u001b[0;34m=\u001b[0m \u001b[0mself\u001b[0m\u001b[0;34m.\u001b[0m\u001b[0m_numpy\u001b[0m\u001b[0;34m(\u001b[0m\u001b[0;34m)\u001b[0m  \u001b[0;31m# pylint: disable=protected-access\u001b[0m\u001b[0;34m\u001b[0m\u001b[0;34m\u001b[0m\u001b[0m\n\u001b[0m\u001b[1;32m   1095\u001b[0m     \u001b[0;32mreturn\u001b[0m \u001b[0mmaybe_arr\u001b[0m\u001b[0;34m.\u001b[0m\u001b[0mcopy\u001b[0m\u001b[0;34m(\u001b[0m\u001b[0;34m)\u001b[0m \u001b[0;32mif\u001b[0m \u001b[0misinstance\u001b[0m\u001b[0;34m(\u001b[0m\u001b[0mmaybe_arr\u001b[0m\u001b[0;34m,\u001b[0m \u001b[0mnp\u001b[0m\u001b[0;34m.\u001b[0m\u001b[0mndarray\u001b[0m\u001b[0;34m)\u001b[0m \u001b[0;32melse\u001b[0m \u001b[0mmaybe_arr\u001b[0m\u001b[0;34m\u001b[0m\u001b[0;34m\u001b[0m\u001b[0m\n\u001b[1;32m   1096\u001b[0m \u001b[0;34m\u001b[0m\u001b[0m\n",
      "\u001b[0;32m/opt/conda/lib/python3.8/site-packages/tensorflow/python/framework/ops.py\u001b[0m in \u001b[0;36m_numpy\u001b[0;34m(self)\u001b[0m\n\u001b[1;32m   1058\u001b[0m   \u001b[0;32mdef\u001b[0m \u001b[0m_numpy\u001b[0m\u001b[0;34m(\u001b[0m\u001b[0mself\u001b[0m\u001b[0;34m)\u001b[0m\u001b[0;34m:\u001b[0m\u001b[0;34m\u001b[0m\u001b[0;34m\u001b[0m\u001b[0m\n\u001b[1;32m   1059\u001b[0m     \u001b[0;32mtry\u001b[0m\u001b[0;34m:\u001b[0m\u001b[0;34m\u001b[0m\u001b[0;34m\u001b[0m\u001b[0m\n\u001b[0;32m-> 1060\u001b[0;31m       \u001b[0;32mreturn\u001b[0m \u001b[0mself\u001b[0m\u001b[0;34m.\u001b[0m\u001b[0m_numpy_internal\u001b[0m\u001b[0;34m(\u001b[0m\u001b[0;34m)\u001b[0m\u001b[0;34m\u001b[0m\u001b[0;34m\u001b[0m\u001b[0m\n\u001b[0m\u001b[1;32m   1061\u001b[0m     \u001b[0;32mexcept\u001b[0m \u001b[0mcore\u001b[0m\u001b[0;34m.\u001b[0m\u001b[0m_NotOkStatusException\u001b[0m \u001b[0;32mas\u001b[0m \u001b[0me\u001b[0m\u001b[0;34m:\u001b[0m  \u001b[0;31m# pylint: disable=protected-access\u001b[0m\u001b[0;34m\u001b[0m\u001b[0;34m\u001b[0m\u001b[0m\n\u001b[1;32m   1062\u001b[0m       \u001b[0msix\u001b[0m\u001b[0;34m.\u001b[0m\u001b[0mraise_from\u001b[0m\u001b[0;34m(\u001b[0m\u001b[0mcore\u001b[0m\u001b[0;34m.\u001b[0m\u001b[0m_status_to_exception\u001b[0m\u001b[0;34m(\u001b[0m\u001b[0me\u001b[0m\u001b[0;34m.\u001b[0m\u001b[0mcode\u001b[0m\u001b[0;34m,\u001b[0m \u001b[0me\u001b[0m\u001b[0;34m.\u001b[0m\u001b[0mmessage\u001b[0m\u001b[0;34m)\u001b[0m\u001b[0;34m,\u001b[0m \u001b[0;32mNone\u001b[0m\u001b[0;34m)\u001b[0m  \u001b[0;31m# pylint: disable=protected-access\u001b[0m\u001b[0;34m\u001b[0m\u001b[0;34m\u001b[0m\u001b[0m\n",
      "\u001b[0;31mKeyboardInterrupt\u001b[0m: "
     ]
    }
   ],
   "source": [
    "history = model.fit(train_input, train_output, epochs = 1000, batch_size= 500, verbose=1,\\\n",
    "                    validation_data=(val_input, val_output),callbacks=[cb_checkpoint, cb_early_stopping, rlr])\n"
   ]
  },
  {
   "cell_type": "code",
   "execution_count": null,
   "id": "4c087edd",
   "metadata": {},
   "outputs": [],
   "source": [
    "# from tensorflow.keras.models import Model\n",
    "# from tensorflow.keras.optimizers import Adam\n",
    "# from tensorflow.keras.layers import Input, Conv1D, BatchNormalization, Activation, MaxPooling1D, Flatten, TimeDistributed\n",
    "# from tensorflow.keras.layers import Dropout, Bidirectional, LSTM, Attention, Multiply, Reshape, Permute, Dense\n",
    "# from tensorflow.keras import regularizers\n",
    "# from tensorflow.keras.backend import clear_session\n",
    "# from tensorflow.keras.callbacks import ModelCheckpoint, EarlyStopping, ReduceLROnPlateau\n",
    "# import pickle\n",
    "# import numpy as np\n",
    "# import matplotlib.pyplot as plt\n",
    "# import tensorflow as tf\n",
    "\n",
    "for f_num in range(0,1):\n",
    "\n",
    "\n",
    "    model_path = 'Models/' + 'model_alpha_(11/26) (T = {}, tau = {}, ks = 3).hdf5'.format(T, tau)\n",
    "\n",
    "    cb_checkpoint = ModelCheckpoint(filepath=model_path, monitor='val_loss', mode = 'min',\\\n",
    "                                    verbose=1, save_best_only=True)\n",
    "    cb_early_stopping = EarlyStopping(monitor='val_loss', mode = 'min', patience= 20)\n",
    "\n",
    "    # Compile model\n",
    "\n",
    "    rlr = ReduceLROnPlateau(monitor='val_loss', factor=0.5, patience= 2, min_lr=1e-7, \\\n",
    "                            verbose=1, min_delta=1e-5)\n",
    "\n",
    "\n",
    "    l1 = 1e-5\n",
    "    l2 = 1e-4\n",
    "    lr = 1e-3\n",
    "    kernel_size= 3\n",
    "    strides=1\n",
    "    activation='relu'\n",
    "\n",
    "    inputs = Input(shape=(T,2), name='input1')\n",
    "    \n",
    "\n",
    "    \n",
    "  \n",
    "    \n",
    "    x = Conv1D(512, kernel_size=kernel_size, padding = 'same')(inputs)\n",
    "    x = BatchNormalization()(x)\n",
    "    x = Conv1D(512, kernel_size=kernel_size, padding = 'same')(x)\n",
    "    x = BatchNormalization()(x)\n",
    "    x = Conv1D(512, kernel_size=kernel_size, padding = 'same')(x)\n",
    "    x = BatchNormalization()(x)\n",
    "\n",
    "\n",
    "    x = Bidirectional(LSTM(1024, activation='tanh', return_sequences=True))(x)\n",
    "    x = BatchNormalization()(x)\n",
    "\n",
    "    x = Bidirectional(LSTM(512, activation='tanh', return_sequences=True))(x)\n",
    "    x = BatchNormalization()(x)\n",
    "\n",
    "    x = Bidirectional(LSTM(256, activation='tanh', return_sequences=False))(x)\n",
    "\n",
    "    \n",
    "    x = BatchNormalization()(x)\n",
    "    x = Dropout(0.4)(x)\n",
    "    \n",
    "    outputs = Dense(\n",
    "            200,\n",
    "            activation=activation,\n",
    "            kernel_regularizer=regularizers.l1_l2(l1=l1, l2=l2)\n",
    "        )(x)\n",
    "\n",
    "    model = Model(inputs=inputs, outputs=outputs)\n",
    "    model.summary()\n",
    "\n",
    "\n",
    "    model.compile(optimizer= Adam(lr),\n",
    "                      loss='mae')\n",
    "\n",
    " \n",
    "\n",
    "\n",
    "    \n",
    "    history = model.fit(train_input, train_output, epochs = 1000, batch_size= 500, verbose=1, \\\n",
    "                               validation_data=(val_input, val_output),callbacks=[cb_checkpoint, cb_early_stopping, rlr])\n"
   ]
  },
  {
   "cell_type": "code",
   "execution_count": 5,
   "id": "624ed7d2",
   "metadata": {
    "ExecuteTime": {
     "end_time": "2024-11-24T15:47:12.279719Z",
     "start_time": "2024-11-24T15:47:12.272071Z"
    }
   },
   "outputs": [
    {
     "data": {
      "text/plain": [
       "array([2.90864444, 2.11567332, 3.09260343, 1.87777663, 3.27256026,\n",
       "       4.97038006, 4.97038006, 0.44273808])"
      ]
     },
     "execution_count": 5,
     "metadata": {},
     "output_type": "execute_result"
    }
   ],
   "source": [
    "input_data['single'][0][0][0]"
   ]
  },
  {
   "cell_type": "code",
   "execution_count": 6,
   "id": "5ebc067a",
   "metadata": {
    "ExecuteTime": {
     "end_time": "2024-11-24T15:47:13.890133Z",
     "start_time": "2024-11-24T15:47:13.884428Z"
    }
   },
   "outputs": [
    {
     "name": "stdout",
     "output_type": "stream",
     "text": [
      "2.5.0\n"
     ]
    }
   ],
   "source": [
    "import tensorflow as tf\n",
    "\n",
    "print(tf.__version__)"
   ]
  },
  {
   "cell_type": "code",
   "execution_count": 7,
   "id": "be60ef0f",
   "metadata": {
    "ExecuteTime": {
     "end_time": "2024-11-24T15:47:14.199421Z",
     "start_time": "2024-11-24T15:47:14.193655Z"
    }
   },
   "outputs": [
    {
     "name": "stdout",
     "output_type": "stream",
     "text": [
      "1.19.5\n"
     ]
    }
   ],
   "source": [
    "import numpy as np\n",
    "\n",
    "print(np.__version__)"
   ]
  }
 ],
 "metadata": {
  "kernelspec": {
   "display_name": "Python 3",
   "language": "python",
   "name": "python3"
  },
  "language_info": {
   "codemirror_mode": {
    "name": "ipython",
    "version": 3
   },
   "file_extension": ".py",
   "mimetype": "text/x-python",
   "name": "python",
   "nbconvert_exporter": "python",
   "pygments_lexer": "ipython3",
   "version": "3.8.10"
  },
  "toc": {
   "base_numbering": 1,
   "nav_menu": {},
   "number_sections": false,
   "sideBar": true,
   "skip_h1_title": false,
   "title_cell": "Table of Contents",
   "title_sidebar": "Contents",
   "toc_cell": false,
   "toc_position": {},
   "toc_section_display": true,
   "toc_window_display": false
  }
 },
 "nbformat": 4,
 "nbformat_minor": 5
}
